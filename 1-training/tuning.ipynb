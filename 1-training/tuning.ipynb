{
 "cells": [
  {
   "cell_type": "markdown",
   "metadata": {},
   "source": [
    "# 使用 SageMaker 进行超参数自动调优\n",
    "\n",
    "基于 SageMaker Python SDK 的超参数自动调优。目标是设定 1-3 个超参数，然后 SageMaker 会自动生成训练任务，使用不同的超参数组合。"
   ]
  },
  {
   "cell_type": "markdown",
   "metadata": {},
   "source": [
    "## 升级 SageMaker Python SDK\n",
    "\n",
    "SageMaker 有三个 SDK：\n",
    "\n",
    "- Boto3 SDK，即 AWS SDK 的 Python 版，属于底层 SDK，未做封装，使用较为麻烦\n",
    "- SageMaker Python SDK，即封装过的 SageMaker SDK，使用方便一些，但是需要查文档了解封装后的 API 与原服务 API 的对应关系\n",
    "- SageMaker Experiements SDK，仅用于在 SageMaker Studio 中调用 Experiments 等功能\n",
    "\n",
    "此处我们使用 SageMaker Python SDK。由于其已经升级到第 2 版，包含大量破坏性变更，而 SageMaker Studio 中的版本可能滞后，所以我们先进行更新。"
   ]
  },
  {
   "cell_type": "code",
   "execution_count": null,
   "metadata": {},
   "outputs": [],
   "source": [
    "# 升级 SageMaker Python SDK v2\n",
    "#\n",
    "# [注] 此处换用清华 TUNA 镜像站加快速度\n",
    "\n",
    "! pip install -i https://pypi.tuna.tsinghua.edu.cn/simple --upgrade sagemaker==2.0.0"
   ]
  },
  {
   "cell_type": "code",
   "execution_count": null,
   "metadata": {},
   "outputs": [],
   "source": [
    "# 项目参数\n",
    "#\n",
    "# - PROJECT = 项目名称，可自行修改或使用默认\n",
    "# - BUCKET = S3 桶名字，用于存储图像数据，必须修改为自己的桶名字\n",
    "# - CONTAINER_IMAGE = SageMaker 内置算法以封装好的容器形式存在，此为容器地址，请勿修改\n",
    "#\n",
    "# [注] 不同区域容器地址：https://docs.aws.amazon.com/sagemaker/latest/dg/sagemaker-algo-docker-registry-paths.html\n",
    "\n",
    "PROJECT = 'DEMO-IMAGE-CLSF'\n",
    "BUCKET = 'sage-maker'\n",
    "\n",
    "# 以下勿修改\n",
    "\n",
    "CONTAINER_IMAGE = '387376663083.dkr.ecr.cn-northwest-1.amazonaws.com.cn/image-classification:1'\n",
    "\n",
    "print('项目参数已设置。')"
   ]
  },
  {
   "cell_type": "code",
   "execution_count": null,
   "metadata": {},
   "outputs": [],
   "source": [
    "# 常量超参数\n",
    "\n",
    "NUM_LAYERS = 50\n",
    "IMAGE_SHAPE = '3,224,224'\n",
    "NUM_TRAINING_SAMPLES = 15420\n",
    "NUM_CLASSES = 257\n",
    "EPOCHS = 10\n",
    "\n",
    "print('常量超参数已设置。')"
   ]
  },
  {
   "cell_type": "code",
   "execution_count": null,
   "metadata": {},
   "outputs": [],
   "source": [
    "from time import time\n",
    "from sagemaker import get_execution_role\n",
    "from sagemaker.estimator import Estimator\n",
    "\n",
    "# 初始化评估器\n",
    "\n",
    "ROLE = get_execution_role()\n",
    "\n",
    "ESTIMATOR = Estimator(\n",
    "    image_uri = CONTAINER_IMAGE,\n",
    "    role = ROLE, \n",
    "    instance_count = 1, \n",
    "    instance_type = 'ml.p3.8xlarge',\n",
    "    volume_size = 50,\n",
    "    max_run = 3600,\n",
    "    use_spot_instances = True,\n",
    "    max_wait = 7200, # 最长等待时间 = 最长运行时间 + 等待竞价实例时间，所以要 ≥ max_run\n",
    "    input_mode = 'File',\n",
    "    output_path = 's3://{}/{}/output'.format(BUCKET, PROJECT)\n",
    ")\n",
    "\n",
    "# 设置静态超参数\n",
    "\n",
    "ESTIMATOR.set_hyperparameters(\n",
    "    num_layers = NUM_LAYERS,\n",
    "    image_shape = IMAGE_SHAPE,\n",
    "    num_classes = NUM_CLASSES,\n",
    "    num_training_samples = NUM_TRAINING_SAMPLES,\n",
    "    epochs = EPOCHS,\n",
    "    top_k = 2,\n",
    "    augmentation_type = 'crop',\n",
    "    # use_pretrained_model = 1  # SageMaker 内置算法的一键迁移学习功能\n",
    ")\n",
    "\n",
    "print('评估器已初始化。')"
   ]
  },
  {
   "cell_type": "code",
   "execution_count": null,
   "metadata": {},
   "outputs": [],
   "source": [
    "# 查看优化结果\n",
    "\n",
    "TUNER_METRICS = sagemaker.HyperparameterTuningJobAnalytics(TUNING_JOB_NAME)\n",
    "TUNER_METRICS.dataframe().sort_values(\n",
    "    ['FinalObjectiveValue'], \n",
    "    ascending = False\n",
    ").head(5)\n",
    "\n",
    "# 查看统计信息\n",
    "\n",
    "# TODO"
   ]
  },
  {
   "cell_type": "code",
   "execution_count": null,
   "metadata": {},
   "outputs": [],
   "source": [
    "# 获取最优评估器\n",
    "\n",
    "try:\n",
    "    BEST_ESTIMATOR = TUNER.best_estimator()\n",
    "    \n",
    "    print('已获取最优评估器')\n",
    "except Exception as e:\n",
    "    print('获取最优评估器时出错')\n",
    "    raise e\n",
    "\n",
    "# 部署最优评估器\n",
    "\n",
    "BEST_ESTIMATOR.deploy()"
   ]
  },
  {
   "cell_type": "markdown",
   "metadata": {},
   "source": [
    "## 热启动优化\n",
    "\n",
    "热启动（warm start）优化指的是基于之前优化的结果进行进一步优化。有两种选择：\n",
    "\n",
    "- **同构热启动优化**，即输入不变、算法不变、调优参数的选择不变，只变化调优参数的范围值\n",
    "- **转移学习**，即输入可变、算法版本可变、调优参数的选择可变"
   ]
  },
  {
   "cell_type": "markdown",
   "metadata": {},
   "source": [
    "### 同构热启动优化"
   ]
  },
  {
   "cell_type": "code",
   "execution_count": null,
   "metadata": {},
   "outputs": [],
   "source": [
    "from time import time\n",
    "from sagemaker.tuner import IntegerParameter, CategoricalParameter, ContinuousParameter, HyperparameterTuner\n",
    "from sagemaker.inputs import TrainingInput\n",
    "\n",
    "# 设置上游优化任务名字\n",
    "\n",
    "PARENT_TUNING_JOB_NAME = 'DEMO-IMAGE-CLSF-1596601290'\n",
    "\n",
    "# 可以再增加最多 4 个上游优化任务\n",
    "\n",
    "ADDITIONAL_PARENT_TUNING_JOB_NAMES = {\n",
    "    'DEMO-IMAGE-CLSF-1596709776'\n",
    "}\n",
    "\n",
    "# 连接已完成的优化任务\n",
    "\n",
    "PARENT_TUNER = HyperparameterTuner.attach(\n",
    "    tuning_job_name = PARENT_TUNING_JOB_NAME\n",
    ")\n",
    "\n",
    "PARENT_TUNER.estimator.max_wait = 7200 # !!!\n",
    "PARENT_TUNER.estimator.use_spot_instances = True # !!!\n",
    "\n",
    "PARENT_TUNER.estimator.set_hyperparameters(\n",
    "    num_layers = 50,\n",
    "    optimizer = 'rmsprop',\n",
    "    epochs = 50\n",
    ")\n",
    "\n",
    "# 生成热启动优化器（同数据同算法）\n",
    "\n",
    "IDENTICAL_TUNER = PARENT_TUNER.identical_dataset_and_algorithm_tuner(\n",
    "    additional_parents = ADDITIONAL_PARENT_TUNING_JOB_NAMES\n",
    ")\n",
    "\n",
    "# 设置参数范围\n",
    "\n",
    "HYPERPARAMS_RANGES = {\n",
    "    'learning_rate': ContinuousParameter(0.00001, 0.01),\n",
    "    'mini_batch_size': IntegerParameter(128, 256),\n",
    "    'optimizer': CategoricalParameter(['sgd', 'adam', 'rmsprop', 'nag'])\n",
    "}\n",
    "\n",
    "IDENTICAL_TUNER._hyperparameter_ranges = HYPERPARAMS_RANGES # !!!\n",
    "\n",
    "# 输入及验证数据地址（SDK Bug：不能自动继承输入）\n",
    "\n",
    "S3_TRAIN_PATH = 's3://{}/{}/train/'.format(BUCKET, PROJECT)\n",
    "S3_VALIDATION_PATH = 's3://{}/{}/validation/'.format(BUCKET, PROJECT)\n",
    "\n",
    "TRAINING_DATA_SOURCE = TrainingInput(\n",
    "    S3_TRAIN_PATH, \n",
    "    distribution = 'FullyReplicated', \n",
    "    content_type = 'application/x-recordio', \n",
    "    s3_data_type = 'S3Prefix'\n",
    ")\n",
    "\n",
    "VALIDATION_DATA_SOURCE = TrainingInput(\n",
    "    S3_VALIDATION_PATH,\n",
    "    distribution = 'FullyReplicated', \n",
    "    content_type = 'application/x-recordio', \n",
    "    s3_data_type = 'S3Prefix'\n",
    ")\n",
    "\n",
    "INPUTS = {\n",
    "    'train': TRAINING_DATA_SOURCE, \n",
    "    'validation': VALIDATION_DATA_SOURCE\n",
    "}\n",
    "\n",
    "# 开始优化任务\n",
    "\n",
    "TIMESTAMP = int(time())\n",
    "TUNING_JOB_NAME = '{}-{}'.format(PROJECT, TIMESTAMP)\n",
    "\n",
    "IDENTICAL_TUNER.fit(\n",
    "    inputs = INPUTS,\n",
    "    job_name = TUNING_JOB_NAME\n",
    ")\n",
    "\n",
    "IDENTICAL_TUNER.wait()\n",
    "\n",
    "print('同构热启动优化任务完成。')"
   ]
  },
  {
   "cell_type": "markdown",
   "metadata": {},
   "source": [
    "### 转移学习"
   ]
  },
  {
   "cell_type": "code",
   "execution_count": null,
   "metadata": {},
   "outputs": [],
   "source": [
    "from sagemaker.tuner import IntegerParameter, CategoricalParameter, ContinuousParameter, HyperparameterTuner\n",
    "\n",
    "# TODO"
   ]
  }
 ],
 "metadata": {
  "instance_type": "ml.t3.medium",
  "kernelspec": {
   "display_name": "Python 3 (MXNet CPU Optimized)",
   "language": "python",
   "name": "python3__SAGEMAKER_INTERNAL__arn:aws:sagemaker:cn-northwest-1:390780980154:image/mxnet-1.6-cpu-py36"
  },
  "language_info": {
   "codemirror_mode": {
    "name": "ipython",
    "version": 3
   },
   "file_extension": ".py",
   "mimetype": "text/x-python",
   "name": "python",
   "nbconvert_exporter": "python",
   "pygments_lexer": "ipython3",
   "version": "3.6.8"
  }
 },
 "nbformat": 4,
 "nbformat_minor": 4
}
